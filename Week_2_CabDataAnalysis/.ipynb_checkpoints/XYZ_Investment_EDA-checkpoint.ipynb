{
 "cells": [
  {
   "cell_type": "markdown",
   "id": "659f7479",
   "metadata": {},
   "source": [
    "# Project Name: G2M Insights For Cab Investment firm\n",
    "\n",
    "# Analyst Name: Gideon Osei Bonsu"
   ]
  },
  {
   "cell_type": "markdown",
   "id": "b5027453",
   "metadata": {},
   "source": [
    "#### I will be using the following Data Analysis Cycle in my analysis:\n",
    "#### 1. Ask\n",
    "#### 2. Prepare\n",
    "#### 3. Process\n",
    "#### 4. Analyze\n",
    "#### 5. Share\n",
    "#### 6. Act"
   ]
  },
  {
   "cell_type": "markdown",
   "id": "0d9a3986",
   "metadata": {},
   "source": [
    "## Scenario\n",
    "\n",
    "XYZ is a private firm in US. Due to remarkable growth in the Cab Industry in last few years and multiple key players in the market, it is planning for an investment in Cab industry and as per their Go-to-Market(G2M) strategy they want to understand the market before taking final decision."
   ]
  },
  {
   "cell_type": "markdown",
   "id": "cf8fb7b4",
   "metadata": {},
   "source": [
    "## Project Delivery\n",
    "\n",
    "Having been provided with [multiple datasets](https://github.com/DataGlacier/DataSets) that contain information on 2 cab companies from **31/01/2016 to 31/12/2018**, XYZ is interested in using actionable insights derived from my analysis to help them identify the right company to make their investment.\n",
    "\n",
    "My goal is to analyze the given datasets to ascertain the best investment option for XYZ."
   ]
  },
  {
   "cell_type": "markdown",
   "id": "f6b396da",
   "metadata": {},
   "source": [
    "## PHASE 1: ASK\n",
    "\n",
    "The guiding questions of this analysis include:\n",
    "* Which company has maximum cab users at a particular time period?\n",
    "* Does margin proportionally increase with increase in number of customers?\n",
    "* What are the attributes of these customer segments?\n",
    "* Is there any seasonality in number of customers using the cab service?\n",
    "\n"
   ]
  },
  {
   "cell_type": "markdown",
   "id": "66d8765b",
   "metadata": {},
   "source": [
    "## PHASE 2: PREPARE\n",
    "\n",
    "***Importing Needed Libraries***"
   ]
  },
  {
   "cell_type": "code",
   "execution_count": 1,
   "id": "1610e36d",
   "metadata": {},
   "outputs": [],
   "source": [
    "import numpy as np\n",
    "import pandas as pd\n",
    "import matplotlib.pyplot as plt\n",
    "import seaborn as sns\n",
    "import plotly.express as px\n",
    "import warnings\n",
    "import plotly.graph_objects as go\n",
    "from collections import Counter\n",
    "from IPython.display import display\n",
    "import plotly.io as pio\n",
    "\n",
    "\n",
    "\n",
    "\n",
    "warnings.filterwarnings(\"ignore\")"
   ]
  },
  {
   "cell_type": "markdown",
   "id": "6a120c69",
   "metadata": {},
   "source": [
    "***Reading Datasets***"
   ]
  },
  {
   "cell_type": "code",
   "execution_count": 2,
   "id": "a0c25738",
   "metadata": {},
   "outputs": [],
   "source": [
    "cab_data = pd.read_csv('Dataset/Cab_Data.csv')\n",
    "city_data = pd.read_csv('Dataset/City.csv')\n",
    "customer_data = pd.read_csv('Dataset/Customer_ID.csv')\n",
    "transaction_data = pd.read_csv('Dataset/Transaction_ID.csv')"
   ]
  },
  {
   "cell_type": "markdown",
   "id": "8263eac7",
   "metadata": {},
   "source": [
    "## PHASE 3: PROCESS\n",
    "\n",
    "**Check how data looks like**, starting with the cab_data dataset"
   ]
  },
  {
   "cell_type": "code",
   "execution_count": 3,
   "id": "ffc9cb35",
   "metadata": {},
   "outputs": [
    {
     "data": {
      "text/html": [
       "<div>\n",
       "<style scoped>\n",
       "    .dataframe tbody tr th:only-of-type {\n",
       "        vertical-align: middle;\n",
       "    }\n",
       "\n",
       "    .dataframe tbody tr th {\n",
       "        vertical-align: top;\n",
       "    }\n",
       "\n",
       "    .dataframe thead th {\n",
       "        text-align: right;\n",
       "    }\n",
       "</style>\n",
       "<table border=\"1\" class=\"dataframe\">\n",
       "  <thead>\n",
       "    <tr style=\"text-align: right;\">\n",
       "      <th></th>\n",
       "      <th>Transaction ID</th>\n",
       "      <th>Date of Travel</th>\n",
       "      <th>Company</th>\n",
       "      <th>City</th>\n",
       "      <th>KM Travelled</th>\n",
       "      <th>Price Charged</th>\n",
       "      <th>Cost of Trip</th>\n",
       "    </tr>\n",
       "  </thead>\n",
       "  <tbody>\n",
       "    <tr>\n",
       "      <th>0</th>\n",
       "      <td>10000011</td>\n",
       "      <td>42377</td>\n",
       "      <td>Pink Cab</td>\n",
       "      <td>ATLANTA GA</td>\n",
       "      <td>30.45</td>\n",
       "      <td>370.95</td>\n",
       "      <td>313.635</td>\n",
       "    </tr>\n",
       "    <tr>\n",
       "      <th>1</th>\n",
       "      <td>10000012</td>\n",
       "      <td>42375</td>\n",
       "      <td>Pink Cab</td>\n",
       "      <td>ATLANTA GA</td>\n",
       "      <td>28.62</td>\n",
       "      <td>358.52</td>\n",
       "      <td>334.854</td>\n",
       "    </tr>\n",
       "    <tr>\n",
       "      <th>2</th>\n",
       "      <td>10000013</td>\n",
       "      <td>42371</td>\n",
       "      <td>Pink Cab</td>\n",
       "      <td>ATLANTA GA</td>\n",
       "      <td>9.04</td>\n",
       "      <td>125.20</td>\n",
       "      <td>97.632</td>\n",
       "    </tr>\n",
       "    <tr>\n",
       "      <th>3</th>\n",
       "      <td>10000014</td>\n",
       "      <td>42376</td>\n",
       "      <td>Pink Cab</td>\n",
       "      <td>ATLANTA GA</td>\n",
       "      <td>33.17</td>\n",
       "      <td>377.40</td>\n",
       "      <td>351.602</td>\n",
       "    </tr>\n",
       "    <tr>\n",
       "      <th>4</th>\n",
       "      <td>10000015</td>\n",
       "      <td>42372</td>\n",
       "      <td>Pink Cab</td>\n",
       "      <td>ATLANTA GA</td>\n",
       "      <td>8.73</td>\n",
       "      <td>114.62</td>\n",
       "      <td>97.776</td>\n",
       "    </tr>\n",
       "  </tbody>\n",
       "</table>\n",
       "</div>"
      ],
      "text/plain": [
       "   Transaction ID  Date of Travel   Company        City  KM Travelled  \\\n",
       "0        10000011           42377  Pink Cab  ATLANTA GA         30.45   \n",
       "1        10000012           42375  Pink Cab  ATLANTA GA         28.62   \n",
       "2        10000013           42371  Pink Cab  ATLANTA GA          9.04   \n",
       "3        10000014           42376  Pink Cab  ATLANTA GA         33.17   \n",
       "4        10000015           42372  Pink Cab  ATLANTA GA          8.73   \n",
       "\n",
       "   Price Charged  Cost of Trip  \n",
       "0         370.95       313.635  \n",
       "1         358.52       334.854  \n",
       "2         125.20        97.632  \n",
       "3         377.40       351.602  \n",
       "4         114.62        97.776  "
      ]
     },
     "execution_count": 3,
     "metadata": {},
     "output_type": "execute_result"
    }
   ],
   "source": [
    "cab_data.head()"
   ]
  },
  {
   "cell_type": "markdown",
   "id": "006fadf2",
   "metadata": {},
   "source": [
    "**Check the structure of the dataset**"
   ]
  },
  {
   "cell_type": "code",
   "execution_count": 4,
   "id": "c5ed947d",
   "metadata": {},
   "outputs": [
    {
     "name": "stdout",
     "output_type": "stream",
     "text": [
      "<class 'pandas.core.frame.DataFrame'>\n",
      "RangeIndex: 20 entries, 0 to 19\n",
      "Data columns (total 3 columns):\n",
      " #   Column      Non-Null Count  Dtype \n",
      "---  ------      --------------  ----- \n",
      " 0   City        20 non-null     object\n",
      " 1   Population  20 non-null     object\n",
      " 2   Users       20 non-null     object\n",
      "dtypes: object(3)\n",
      "memory usage: 612.0+ bytes\n"
     ]
    }
   ],
   "source": [
    "city_data.info()"
   ]
  },
  {
   "cell_type": "markdown",
   "id": "26de4b38",
   "metadata": {},
   "source": [
    "**Check for null values in each column**"
   ]
  },
  {
   "cell_type": "code",
   "execution_count": 5,
   "id": "1ca1bc2a",
   "metadata": {},
   "outputs": [
    {
     "data": {
      "text/plain": [
       "Transaction ID    0\n",
       "Date of Travel    0\n",
       "Company           0\n",
       "City              0\n",
       "KM Travelled      0\n",
       "Price Charged     0\n",
       "Cost of Trip      0\n",
       "dtype: int64"
      ]
     },
     "execution_count": 5,
     "metadata": {},
     "output_type": "execute_result"
    }
   ],
   "source": [
    "cab_data.isnull().sum(axis = 0)"
   ]
  },
  {
   "cell_type": "markdown",
   "id": "695a8cca",
   "metadata": {},
   "source": [
    "***Key Observations Thus Far:***\n",
    "* The cab_data dataset has 7 columns and 359391 rows.\n",
    "* There are no null values in any of the columns.\n",
    "* Values in all the columns are in the correct format, except for the \"Date of Travel\" column, which has its 5-digit values in int(64) type, instead of Date.\n",
    "\n",
    "***Convert \"Date_of_Travel\" column to Date type***\n",
    "\n",
    "*We will use the given start date (31/01/2016) and end date (31/12/2018) as hint to find the dates*"
   ]
  },
  {
   "cell_type": "code",
   "execution_count": 6,
   "id": "06e58489",
   "metadata": {},
   "outputs": [
    {
     "name": "stdout",
     "output_type": "stream",
     "text": [
      "Start Date: 42371\n",
      "End Date: 43465\n"
     ]
    }
   ],
   "source": [
    "numeric_start_date = cab_data['Date of Travel'].min()\n",
    "numeric_end_date = cab_data['Date of Travel'].max()\n",
    "print(\"Start Date: %d\\nEnd Date: %d\" %(numeric_start_date,numeric_end_date))"
   ]
  },
  {
   "cell_type": "markdown",
   "id": "ee26f67d",
   "metadata": {},
   "source": [
    "**42371** corresponds to **31/01/2016**\n",
    "\n",
    "**43465** corresponds to **31/12/2018**\n",
    "\n",
    "Since start date 42371 corresponds to 31/01/2016, we will use the following formula to calculate every other date:<br>\n",
    "Date = start_date + (Numeric_date_value - 42371) days<br>\n",
    "We will use the end_date to verify the validity of this formula.<br>\n",
    "\n",
    "end_date = 31/01/2016 + (43465  - 42371)days\n",
    "\n",
    "         = 31/01/2016 + 1094 days\n",
    "         \n",
    "         = 01/29/2019\n",
    "However, the end_date was stated to be 31/12/2018 (not 01/29/2019) in the problem statement. There seems to be a bit of innacuracy in the numeric date values, with a margin of error of about 29 days. Nonetheless, we will stick with the original start date and the new end date\n",
    "\n",
    "Date = 31/01/2016 + (Numeric_value - 42371)days\n",
    "\n",
    "***Calculate End Date***\n"
   ]
  },
  {
   "cell_type": "code",
   "execution_count": 7,
   "id": "d702b5c2",
   "metadata": {},
   "outputs": [
    {
     "data": {
      "text/plain": [
       "Timestamp('2019-01-29 00:00:00')"
      ]
     },
     "execution_count": 7,
     "metadata": {},
     "output_type": "execute_result"
    }
   ],
   "source": [
    "start_date = \"01/31/2016\"\n",
    "end_date = pd.to_datetime(start_date) + pd.DateOffset(days = numeric_end_date-numeric_start_date)\n",
    "end_date"
   ]
  },
  {
   "cell_type": "markdown",
   "id": "738d60c7",
   "metadata": {},
   "source": [
    "***Convert all dates from numeric to date type***"
   ]
  },
  {
   "cell_type": "code",
   "execution_count": 8,
   "id": "3847589a",
   "metadata": {},
   "outputs": [],
   "source": [
    "def get_date(numeric_date):\n",
    "    the_date = pd.to_datetime(start_date) + pd.DateOffset(days = numeric_date - numeric_start_date)\n",
    "    return the_date"
   ]
  },
  {
   "cell_type": "markdown",
   "id": "9d69a0b2",
   "metadata": {},
   "source": [
    "NB: The next cell takes quite a bit of time to load"
   ]
  },
  {
   "cell_type": "code",
   "execution_count": null,
   "id": "46ae220e",
   "metadata": {},
   "outputs": [],
   "source": [
    "cab_data['Date of Travel'] = cab_data['Date of Travel'].apply(lambda numeric_dates: get_date(numeric_dates))"
   ]
  },
  {
   "cell_type": "markdown",
   "id": "6348b18d",
   "metadata": {},
   "source": [
    "Preliminary data cleaning for the cab_data dataset is now done, we will now move on to the other three datasets"
   ]
  },
  {
   "cell_type": "code",
   "execution_count": null,
   "id": "8ffa0055",
   "metadata": {},
   "outputs": [],
   "source": [
    "transaction_data.info()"
   ]
  },
  {
   "cell_type": "code",
   "execution_count": null,
   "id": "81b9ac03",
   "metadata": {},
   "outputs": [],
   "source": [
    "customer_data.info()"
   ]
  },
  {
   "cell_type": "code",
   "execution_count": null,
   "id": "08b580ba",
   "metadata": {},
   "outputs": [],
   "source": [
    "city_data.info()"
   ]
  },
  {
   "cell_type": "markdown",
   "id": "e9c9f294",
   "metadata": {},
   "source": [
    "***Convert the Population and Users columns to int type in the city_data dataset***"
   ]
  },
  {
   "cell_type": "code",
   "execution_count": null,
   "id": "f0d51ebf",
   "metadata": {},
   "outputs": [],
   "source": [
    "city_data['Users'] = city_data['Users'].str.replace(',','').astype(int)\n",
    "city_data['Population'] = city_data['Population'].str.replace(',','').astype(int)"
   ]
  },
  {
   "cell_type": "markdown",
   "id": "0749e278",
   "metadata": {},
   "source": [
    "***Merge datasets to create master dataset***"
   ]
  },
  {
   "cell_type": "code",
   "execution_count": null,
   "id": "540131f0",
   "metadata": {},
   "outputs": [],
   "source": [
    "master_data = cab_data.merge(transaction_data, on=\"Transaction ID\", how = 'inner')\n",
    "master_data = master_data.merge(customer_data, on='Customer ID', how='inner')\n",
    "master_data = master_data.merge(city_data, on=\"City\", how=\"inner\")"
   ]
  },
  {
   "cell_type": "markdown",
   "id": "e856a3bf",
   "metadata": {},
   "source": [
    "***Get years, months and days*** out of Date of Travel and ***get profits*** out of Price Charged and Cost of Trip"
   ]
  },
  {
   "cell_type": "code",
   "execution_count": null,
   "id": "9c255255",
   "metadata": {},
   "outputs": [],
   "source": [
    "master_data['Years'] = master_data['Date of Travel'].dt.year\n",
    "master_data['Months'] = master_data['Date of Travel'].dt.month_name()\n",
    "master_data['Days'] = master_data['Date of Travel'].dt.day_name()\n",
    "master_data['Profits'] = master_data['Price Charged']-master_data['Cost of Trip']"
   ]
  },
  {
   "cell_type": "markdown",
   "id": "0b6c47c1",
   "metadata": {},
   "source": [
    "***Reorder columns in master dataset***"
   ]
  },
  {
   "cell_type": "code",
   "execution_count": null,
   "id": "a4fcdb13",
   "metadata": {},
   "outputs": [],
   "source": [
    "master_data = master_data.reindex(columns=['Transaction ID','Date of Travel','Years','Months','Days',\n",
    "                                           'Customer ID', 'Company', 'City', 'Population','Users',\n",
    "                                           'KM Travelled', 'Price Charged', 'Cost of Trip','Profits',\n",
    "                                           'Payment_Mode', 'Gender','Age', 'Income (USD/Month)'])"
   ]
  },
  {
   "cell_type": "markdown",
   "id": "23d6511b",
   "metadata": {},
   "source": [
    "***Rename columns in master dataset***"
   ]
  },
  {
   "cell_type": "code",
   "execution_count": null,
   "id": "da9513db",
   "metadata": {},
   "outputs": [],
   "source": [
    "master_data.columns = ['transaction_id','date_of_travel','years','months','days','customer_id', 'company', 'city', \n",
    "                       'population','users','km_travelled', 'price_charged', 'cost_of_trip','profits','payment_mode', \n",
    "                       'gender','age', 'income_usd_per_month']\n",
    "master_data.head()"
   ]
  },
  {
   "cell_type": "markdown",
   "id": "2cf6febd",
   "metadata": {},
   "source": [
    "## PHASE 4: ANALYZE"
   ]
  },
  {
   "cell_type": "code",
   "execution_count": null,
   "id": "9d16f7bc",
   "metadata": {},
   "outputs": [],
   "source": [
    "yellow_cab=len(master_data.groupby('company').get_group('Yellow Cab'))/len(master_data['company'])\n",
    "pink_cab=len(master_data.groupby('company').get_group('Pink Cab'))/len(master_data['company'])"
   ]
  },
  {
   "cell_type": "markdown",
   "id": "d8f12954",
   "metadata": {},
   "source": [
    "***Check each company's percentage share of the total cab transactionss***"
   ]
  },
  {
   "cell_type": "code",
   "execution_count": null,
   "id": "8dc55ad7",
   "metadata": {},
   "outputs": [],
   "source": [
    "values = np.array([yellow_cab,pink_cab])\n",
    "mlabels = ['Yellow Cab','Pink Cab']\n",
    "plt.pie(values, labels=mlabels,  autopct='%1.2f%%', shadow=True, explode = [0,0.08],startangle=90)\n",
    "plt.tight_layout()\n",
    "plt.title(\"Cab Company Share of All Journeys\", bbox={'facecolor':'gray', 'pad':8}, color='white')\n",
    "plt.xlabel('''\\n                                                           2016-01-31 to 2019-01-29 ''')"
   ]
  },
  {
   "cell_type": "markdown",
   "id": "203dd5cd",
   "metadata": {},
   "source": [
    "***Key Note:***\n",
    "* The Yellow Cab is used a lot more by customers than the Pink Cab"
   ]
  },
  {
   "cell_type": "code",
   "execution_count": null,
   "id": "fc972756",
   "metadata": {},
   "outputs": [],
   "source": [
    "plt.figure(figsize = (16, 9))\n",
    "order=[\"Sunday\",\"Monday\",\"Tuesday\",\"Wednesday\",\"Thursday\",\"Friday\",\"Saturday\"]\n",
    "\n",
    "sns.countplot(x=\"days\", hue=\"company\", order=order, data=master_data,palette=\"Set2\",edgecolor = \"black\")\n",
    " \n",
    "\n",
    "plt.title('Daily Cab Usage', fontsize=25)\n",
    "plt.ylabel('Frequency of Usage', fontsize=12)\n",
    "plt.xlabel('Day', fontsize=12)\n",
    "plt.show()"
   ]
  },
  {
   "cell_type": "markdown",
   "id": "ba73c511",
   "metadata": {},
   "source": [
    "***Check each company's total cab transactions each month***"
   ]
  },
  {
   "cell_type": "code",
   "execution_count": null,
   "id": "e56dcff3",
   "metadata": {},
   "outputs": [],
   "source": [
    "pinkprofit=master_data[master_data.company=='Pink Cab'].groupby('months').company.count()\n",
    "yellowprofit=master_data[master_data.company=='Yellow Cab'].groupby('months').company.count()\n",
    "print(\"Pink Cab Profit:->\\n\", pinkprofit)\n",
    "print(\"\\nYellow Cab Profit:->\\n\", yellowprofit)"
   ]
  },
  {
   "cell_type": "code",
   "execution_count": null,
   "id": "7a2287a7",
   "metadata": {},
   "outputs": [],
   "source": [
    "plt.figure(figsize = (16, 9))\n",
    "order=[\"January\",\"February\",\"March\",\"April\",\"May\",\"June\",\"July\",\"August\",\"September\",\"October\",\"November\",\"December\"]\n",
    "\n",
    "sns.countplot(x=\"months\", hue=\"company\", data=master_data, order=order,palette=\"Set1\",edgecolor = \"black\")\n",
    " \n",
    "\n",
    "plt.title('Monthly Cab Usage', fontsize=25)\n",
    "plt.ylabel('Frequency of Usage', fontsize=12)\n",
    "plt.xlabel('Month', fontsize=12)\n",
    "plt.show()"
   ]
  },
  {
   "cell_type": "markdown",
   "id": "ed223827",
   "metadata": {},
   "source": [
    "***Key Note:***\n",
    "* There is considerable seasonality in Cab Usage\n",
    "* Cab usage rises almost steadily from February to January of the next year"
   ]
  },
  {
   "cell_type": "markdown",
   "id": "ef28b88c",
   "metadata": {},
   "source": [
    "***Check each company's total transcations per year***"
   ]
  },
  {
   "cell_type": "code",
   "execution_count": null,
   "id": "d1dc8b7e",
   "metadata": {},
   "outputs": [],
   "source": [
    "plt.figure(figsize = (10, 7))\n",
    "ax = sns.countplot(x=\"years\", hue=\"company\", data=master_data)\n",
    "plt.title('Yearly Cab Usage', fontsize=25)\n",
    "plt.ylabel('Frequency of Patronage')\n",
    "plt.show()"
   ]
  },
  {
   "cell_type": "markdown",
   "id": "3be2bc00",
   "metadata": {},
   "source": [
    "***We will now check each company's average profits per year and the difference between the two***"
   ]
  },
  {
   "cell_type": "code",
   "execution_count": null,
   "id": "8abe4e81",
   "metadata": {},
   "outputs": [],
   "source": [
    "\n",
    "yellowcab_profits = master_data[master_data['company']=='Yellow Cab'].groupby(master_data['years']).profits.mean()\n",
    "pinkcab_profits = master_data[master_data['company']=='Pink Cab'].groupby(master_data['years']).profits.mean()\n",
    "diff=yellowcab_profits-pinkcab_profits\n",
    "\n",
    "fig = go.Figure(data=[\n",
    "    go.Bar(\n",
    "    x=['2016','2017','2018','2019'], \n",
    "    y=yellowcab_profits.values,\n",
    "    name='Yellow Cab',\n",
    "    marker_color='yellow'),\n",
    "    go.Bar(\n",
    "   x=['2016','2017','2018','2019'], \n",
    "    y=pinkcab_profits.values,\n",
    "    name='Pink Cab',\n",
    "    marker_color='#FF1493')\n",
    "])\n",
    "\n",
    "fig.add_trace(go.Bar(\n",
    "   x=['2016','2017','2018','2019'], \n",
    "    y=diff.values,\n",
    "    name='Difference',\n",
    "    marker_color='burlywood'\n",
    "))\n",
    "fig.update_layout(barmode='group', xaxis_tickangle=-45,plot_bgcolor='grey',title = 'Average Profits Per Year',  title_x=0.5, \n",
    "                  yaxis_title=\"Average Profits Gained\", xaxis_title=\"Year\",)\n",
    "\n",
    "display(fig)\n",
    "difff = round(diff.mean(),2)\n",
    "print(\"Average Difference: \"+str(difff))\n"
   ]
  },
  {
   "cell_type": "markdown",
   "id": "6a9865f5",
   "metadata": {},
   "source": [
    "***Key Notes:***\n",
    "* The Yellow Cab has its average profits being significantly higher than the Pink Cab's"
   ]
  },
  {
   "cell_type": "code",
   "execution_count": null,
   "id": "987585f4",
   "metadata": {},
   "outputs": [],
   "source": [
    "yellowcab_profits = master_data[master_data['company']=='Yellow Cab'].groupby(master_data['years']).profits.mean()\n",
    "pinkcab_profits = master_data[master_data['company']=='Pink Cab'].groupby(master_data['years']).profits.mean()\n",
    "plt.figure(figsize = (5, 3))\n",
    "\n",
    "ax=plt.axes()\n",
    "ax.set(facecolor = \"grey\")\n",
    "plt.plot(['2016','2017','2018','2019'], pinkcab_profits.values, color='deeppink')\n",
    "plt.plot(['2016','2017','2018','2019'], yellowcab_profits.values, color='yellow')\n",
    "plt.title('Yearly Average Profit Trend', fontsize=15)\n",
    "plt.ylabel('Average Profit',fontsize=10)\n",
    "plt.xlabel('Year',fontsize=10)\n",
    "plt.legend(['Pink Cab','Yellow cab'], facecolor=\"purple\")\n",
    "plt.figure(facecolor='yellow')\n",
    "plt.show()"
   ]
  },
  {
   "cell_type": "markdown",
   "id": "076a7c13",
   "metadata": {},
   "source": [
    "***Key Note:***\n",
    "* Despite the Yellow Cab having much greater profits each year, its profits have been declining consistently from 2017 to 2019, whereas the Pink Cab's profits saw a surge from 2018 to 2019."
   ]
  },
  {
   "cell_type": "markdown",
   "id": "b25e9cfb",
   "metadata": {},
   "source": [
    "***We will now analyze each cab company's presence in various cities***"
   ]
  },
  {
   "cell_type": "code",
   "execution_count": null,
   "id": "d8f83d50",
   "metadata": {},
   "outputs": [],
   "source": [
    "city_data['percent'] = round((city_data['Users']/city_data['Population'])*100,2)"
   ]
  },
  {
   "cell_type": "code",
   "execution_count": null,
   "id": "f2967733",
   "metadata": {},
   "outputs": [],
   "source": [
    "fig = px.bar(city_data, x = 'City', y = 'percent', color = 'City', title = \"Percentage of City Population Using The Two Cabs Companies' Services\")\n",
    "fig.update_layout(xaxis_tickangle=-45,plot_bgcolor='grey', title_x=0.4, yaxis_title=\"User Percentage\", xaxis_title=\"City\")\n",
    "display(fig)"
   ]
  },
  {
   "cell_type": "markdown",
   "id": "8550ba0e",
   "metadata": {},
   "source": [
    "***Key Notes:***\n",
    "* The two Cab companies have over 30% of the entire population of Washington DC, San Francisco and Boston using their services.\n",
    "* However, there is a lot of room for growth, especially considering the fact that they have less than 10% of the people in each of the other cities using their services"
   ]
  },
  {
   "cell_type": "markdown",
   "id": "e3f4999e",
   "metadata": {},
   "source": [
    "***We will now check the cities where these companies have most of their users***"
   ]
  },
  {
   "cell_type": "code",
   "execution_count": null,
   "id": "2f597ed2",
   "metadata": {},
   "outputs": [],
   "source": [
    "cities = master_data.groupby('city').users.count()\n",
    "index = cities.index\n",
    "values = cities.values\n",
    "\n",
    "fig = go.Figure(data=[go.Pie(labels=index, values=values,name=\"Cities\")])\n",
    "\n",
    "fig.update_traces( textinfo='percent+label',textfont_size=10, hoverinfo=\"label+value+name\",\n",
    "                  marker=dict(line=dict(color='grey', width=2)))\n",
    "\n",
    "fig.update_layout(title_x=0.45, title_text=\"Cab Companies' Cities of Operation\",\n",
    "    annotations=[dict(text='', x=0.5, y=0.5, font_size=20, showarrow=False)],autosize=False,\n",
    "    width=900,\n",
    "    height=800, showlegend=False)\n",
    "\n",
    "display(fig)"
   ]
  },
  {
   "cell_type": "markdown",
   "id": "4869684a",
   "metadata": {},
   "source": [
    "***Key Note:***\n",
    "* New York, Chicago, Los Angeles, Washington, DC and Boston are the top 5 cities of operation for these two cab companies, with respect to number of users."
   ]
  },
  {
   "cell_type": "code",
   "execution_count": null,
   "id": "3a361163",
   "metadata": {},
   "outputs": [],
   "source": [
    "\n",
    "yellow_profits_per_city = master_data[master_data['company']=='Yellow Cab'].groupby(master_data['city']).profits.mean()\n",
    "pink_profits_per_city = master_data[master_data['company']=='Pink Cab'].groupby(master_data['city']).profits.mean()\n",
    "diff=yellowcab_profits-pinkcab_profits\n",
    "\n",
    "fig = go.Figure()\n",
    "fig.add_trace(go.Bar(\n",
    "    x=yellow_profits_per_city.index,\n",
    "    y=yellow_profits_per_city.values,\n",
    "    name='Yellow Cab',\n",
    "    marker_color='yellow'\n",
    "))\n",
    "fig.add_trace(go.Bar(\n",
    "   x=yellow_profits_per_city.index,\n",
    "    y=pink_profits_per_city.values,\n",
    "    name='Pink Cab',\n",
    "    marker_color='#FF1493'\n",
    "))\n",
    "fig.update_layout(barmode='group', xaxis_tickangle=-45,plot_bgcolor='grey',title = 'Average Profits Per City',  title_x=0.5, \n",
    "                  yaxis_title=\"Average Profits\", xaxis_title=\"City\")\n",
    "display(fig)"
   ]
  },
  {
   "cell_type": "markdown",
   "id": "cb61081e",
   "metadata": {},
   "source": [
    "***Key Note:***\n",
    "* The cities with most users are not necessarily the cities where the companies make the most average profit\n",
    "* New York, Silicon Valley and Dallas yield the highest average profits for the Yellow Cab company and Dallas is replaced by Miami for the Pink Cab company "
   ]
  },
  {
   "cell_type": "markdown",
   "id": "e731c6af",
   "metadata": {},
   "source": [
    "***We will now analyze each company's customer retention***"
   ]
  },
  {
   "cell_type": "code",
   "execution_count": null,
   "id": "20e22ce9",
   "metadata": {},
   "outputs": [],
   "source": [
    "pink_cab = master_data[master_data['company']=='Pink Cab']\n",
    "pink_cab_customers = pink_cab['customer_id']\n",
    "yellow_cab = master_data[master_data['company']=='Yellow Cab']\n",
    "yellow_cab_customers = yellow_cab['customer_id']\n",
    "\n",
    "pink_val_counts = Counter(pink_cab_customers)\n",
    "\n",
    "pink_val_and_counts_5 = {value: count for value, count in pink_val_counts.items() if count > 5}\n",
    "pink_val_and_counts_5_perc = round(len(pink_val_and_counts_5)/len(pink_cab_customers)*100,2)\n",
    "pink_val_and_counts_10 = {value: count for value, count in pink_val_counts.items() if count > 10}\n",
    "pink_val_and_counts_10_perc = round(len(pink_val_and_counts_10)/len(pink_cab_customers)*100,2)\n",
    "pink_val_and_counts_15 = {value: count for value, count in pink_val_counts.items() if count > 15}\n",
    "pink_val_and_counts_15_perc = round(len(pink_val_and_counts_15)/len(pink_cab_customers)*100,2)\n",
    "\n",
    "yellow_val_counts = Counter(yellow_cab_customers)\n",
    "\n",
    "yellow_val_and_counts_5 = {value: count for value, count in yellow_val_counts.items() if count > 5}\n",
    "yellow_val_and_counts_5_perc = round(len(yellow_val_and_counts_5)/len(yellow_cab_customers)*100,2)\n",
    "yellow_val_and_counts_10 = {value: count for value, count in yellow_val_counts.items() if count > 10}\n",
    "yellow_val_and_counts_10_perc = round(len(yellow_val_and_counts_10)/len(yellow_cab_customers)*100,2)\n",
    "yellow_val_and_counts_15 = {value: count for value, count in yellow_val_counts.items() if count > 15}\n",
    "yellow_val_and_counts_15_perc = round(len(yellow_val_and_counts_15)/len(yellow_cab_customers)*100,2)"
   ]
  },
  {
   "cell_type": "code",
   "execution_count": null,
   "id": "eaee4bfb",
   "metadata": {},
   "outputs": [],
   "source": [
    "tb = pd.DataFrame({\n",
    "    'Cab Company': ['Pink', 'Yellow'],\n",
    "    '5+ Transaction Customers': [len(pink_val_and_counts_5), len(yellow_val_and_counts_5)],\n",
    "    '5+ Retention Rate': [pink_val_and_counts_5_perc, yellow_val_and_counts_5_perc],\n",
    "    '10+ Transaction Customers': [len(pink_val_and_counts_10), len(yellow_val_and_counts_10)],\n",
    "    '10+ Retention Rate': [pink_val_and_counts_10_perc, yellow_val_and_counts_10_perc],\n",
    "    '15+ Transaction Customers': [len(pink_val_and_counts_15), len(yellow_val_and_counts_15)],\n",
    "    '15+ Retention Rate': [pink_val_and_counts_15_perc, yellow_val_and_counts_15_perc],\n",
    " })\n",
    "\n",
    "fig = go.Figure(data=[go.Table(\n",
    "    header=dict(values=list(tb.columns),\n",
    "                fill_color='paleturquoise',\n",
    "                align='left'),\n",
    "    cells=dict(values=[tb['Cab Company'],tb['5+ Transaction Customers'],tb['5+ Retention Rate'], \n",
    "                       tb['10+ Transaction Customers'], tb['10+ Retention Rate'],\n",
    "               tb['15+ Transaction Customers'], tb['15+ Retention Rate']],\n",
    "               fill_color='lavender',\n",
    "               align='left'))])\n",
    "\n",
    "display(fig)"
   ]
  },
  {
   "cell_type": "markdown",
   "id": "953606cd",
   "metadata": {},
   "source": [
    "***Key Notes:***\n",
    "* 5.33% of the Yellow Cab company's customers returned at least 5 times, compared to 4.36% for the Pink Cab\n",
    "* We notice a more significant difference when checking the percentage of customers who returned at least 10 times - 3.53% for the Yellow Cab company and only 0.28% for the Pink Cab company.\n",
    "* At 15+ retention also, the Yellow Cab leads the way again, with 1.99% retention, compared to only 0.01% for the Pink Cab\n",
    "* We can confidently conclude that the Yellow Cab has better customer retention"
   ]
  },
  {
   "cell_type": "markdown",
   "id": "f34aa836",
   "metadata": {},
   "source": [
    "***We will now find the prevalent payment modes in each company's transactions***"
   ]
  },
  {
   "cell_type": "code",
   "execution_count": null,
   "id": "86b754b1",
   "metadata": {},
   "outputs": [],
   "source": [
    "cash = master_data[master_data['payment_mode']=='Cash']\n",
    "pinkcab_cash= round((len(cash[master_data['company']=='Pink Cab'])/len(master_data))*100,2)\n",
    "yellowcab_cash= round((len(cash[master_data['company']=='Yellow Cab'])/len(master_data))*100,2)\n",
    "\n",
    "card = master_data[master_data['payment_mode']=='Card']\n",
    "pinkcab_card= round((len(card[master_data['company']=='Pink Cab'])/len(master_data))*100,2)\n",
    "yellowcab_card= round((len(card[master_data['company']=='Yellow Cab'])/len(master_data))*100,2)\n",
    "\n",
    "mode_value=[yellowcab_card, pinkcab_card, yellowcab_cash, pinkcab_cash]\n",
    "mode_index =['Yellow Cab Card','Pink Cab Card','Yellow Cab Cash','Pink Cab Cash']\n",
    "\n",
    "colors=['#FFFF00','#FF00FF','#DAA520','#9F2B68']\n"
   ]
  },
  {
   "cell_type": "code",
   "execution_count": null,
   "id": "5e99baed",
   "metadata": {},
   "outputs": [],
   "source": [
    "fig = go.Figure(data=[go.Pie(labels=mode_index, values=mode_value,name=\"Payment Modes\")])\n",
    "\n",
    "# Use `hole` to create a donut-like pie chart\n",
    "fig.update_traces(textfont_size=20, hole=.4, hoverinfo=\"label+percent+name\",marker=dict(colors=colors, line=dict(color='grey', width=2)))\n",
    "\n",
    "fig.update_layout(title_x=0.45, title_text=\"Payment Modes for Transactions\",\n",
    "    annotations=[dict(text='', x=0.5, y=0.5, font_size=20, showarrow=False)])\n",
    "display(fig)"
   ]
  },
  {
   "cell_type": "markdown",
   "id": "962b03fd",
   "metadata": {},
   "source": [
    "***Key Notes:***\n",
    "* Cards are the preferred payment mode for customers\n",
    "* Cards are used for payment 60% of the time, cash 40% - this is true for both Cab Companies."
   ]
  },
  {
   "cell_type": "code",
   "execution_count": null,
   "id": "e2827c15",
   "metadata": {},
   "outputs": [],
   "source": [
    "cities = master_data.groupby('city').profits.mean()\n",
    "cities\n",
    "fig = px.scatter(master_data, x='km_travelled', y='price_charged', trendline='ols',color='company', symbol='company')\n",
    "fig.update_layout(title_x=0.6, yaxis_title = \"Price Charged\", title=\"Correlation Between Price Charged and Trip Distance\", xaxis_title=\"Kilometers Travelled\")\n",
    "\n",
    "display(fig)"
   ]
  },
  {
   "cell_type": "markdown",
   "id": "a18e1c8c",
   "metadata": {},
   "source": [
    "***Key Note:***\n",
    "* As expected, there is a positive correlation between Price Charged and the Distance travelled."
   ]
  },
  {
   "cell_type": "markdown",
   "id": "9bf6ceb7",
   "metadata": {},
   "source": [
    "***We will now print a heatmap to see the correlation between all features***"
   ]
  },
  {
   "cell_type": "code",
   "execution_count": null,
   "id": "96f97a9c",
   "metadata": {},
   "outputs": [],
   "source": [
    "correlation_matrix = master_data.corr()\n",
    "plt.figure(figsize=(10, 7))\n",
    "sns.heatmap(correlation_matrix, annot=True, cmap='coolwarm', vmin=-1, vmax=1)\n",
    "plt.title('Feature Correlation Heatmap')\n",
    "plt.show()"
   ]
  },
  {
   "cell_type": "markdown",
   "id": "95ec35a4",
   "metadata": {},
   "source": [
    "***Key Notes:***\n",
    "* As expected, there is a strong correlation between Population and Users, as well as between Distance Travelled, Cost of Trip and Price Charged.\n",
    "* As expected, again, there is a strong correlation between Transaction ID and the Years of the transactions.\n",
    "    + A transaction at a later date would comprise of a greater number for its Transaction ID."
   ]
  },
  {
   "cell_type": "markdown",
   "id": "d5fb544f",
   "metadata": {},
   "source": [
    "## PHASE 6: ACT"
   ]
  },
  {
   "cell_type": "markdown",
   "id": "320d055f",
   "metadata": {},
   "source": [
    "### RECOMMENDATIONS"
   ]
  },
  {
   "cell_type": "markdown",
   "id": "9d416902",
   "metadata": {},
   "source": [
    "* General reasons for XYZ to definitely make an investment:\n",
    "    + The Cab companies collectively serve more than 30% of the total population in Washington DC, San Francisco, and Boston. Nevertheless, there exists significant potential for expansion, particularly given that their service utilization remains below 10% of the population in each of the other cities.\n",
    "\n",
    "\n",
    "\n",
    "* I suggest that XYZ considers investing in the Yellow Cab company due to the following factors:\n",
    "    + The Yellow Cab company exhibits a significantly superior customer retention rate compared to the Pink Cab. This implies that even during challenging periods, the Yellow Cab has a higher likelihood of enduring due to the strong customer loyalty it enjoys.\n",
    "    + The Yellow Cab stands as the preferred choice for most customers, with its share amounting to 274,681 out of the total 359,392 transactions in the dataset. This dominance translates to 76.43% of all cab journeys, outshining the Yellow Cab's 84,711 journeys, which make up a mere 23.57%.\n",
    "    + The Yellow Cab boasts notably higher average profits. Throughout the span of four years, there exists an average profit gap of $89.86 in favor of the Yellow Cab.\n",
    "    \n",
    "* Notable Drawback:\n",
    "    + In spite of the Yellow Cab's notably higher annual profits, its earnings have shown a consistent decline from 2017 to 2019. Conversely, the Pink Cab experienced a surge in profits between 2018 and 2019.\n",
    "\n",
    "\n",
    "\n"
   ]
  }
 ],
 "metadata": {
  "kernelspec": {
   "display_name": "Python 3 (ipykernel)",
   "language": "python",
   "name": "python3"
  },
  "language_info": {
   "codemirror_mode": {
    "name": "ipython",
    "version": 3
   },
   "file_extension": ".py",
   "mimetype": "text/x-python",
   "name": "python",
   "nbconvert_exporter": "python",
   "pygments_lexer": "ipython3",
   "version": "3.11.3"
  }
 },
 "nbformat": 4,
 "nbformat_minor": 5
}
